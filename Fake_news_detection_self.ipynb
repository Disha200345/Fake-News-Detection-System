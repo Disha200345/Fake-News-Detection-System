{
  "cells": [
    {
      "cell_type": "markdown",
      "metadata": {
        "id": "view-in-github",
        "colab_type": "text"
      },
      "source": [
        "<a href=\"https://colab.research.google.com/github/Disha200345/Fake-News-Detection-System/blob/main/Fake_news_detection_self.ipynb\" target=\"_parent\"><img src=\"https://colab.research.google.com/assets/colab-badge.svg\" alt=\"Open In Colab\"/></a>"
      ]
    },
    {
      "cell_type": "code",
      "execution_count": null,
      "metadata": {
        "colab": {
          "base_uri": "https://localhost:8080/"
        },
        "id": "UCD_hUAYAAAg",
        "outputId": "940ec977-81d6-4700-ecfb-30ae40420fee"
      },
      "outputs": [
        {
          "output_type": "stream",
          "name": "stderr",
          "text": [
            "[nltk_data] Downloading package stopwords to /root/nltk_data...\n",
            "[nltk_data]   Unzipping corpora/stopwords.zip.\n"
          ]
        }
      ],
      "source": [
        "import pandas as pd\n",
        "import numpy as np\n",
        "import re\n",
        "import nltk\n",
        "import matplotlib.pyplot as plt\n",
        "import tensorflow as tf\n",
        "import seaborn as sns\n",
        "\n",
        "from sklearn.model_selection import train_test_split\n",
        "from sklearn.metrics import accuracy_score, precision_score, recall_score, f1_score\n",
        "\n",
        "from tensorflow.keras.models import Sequential\n",
        "from tensorflow.keras.layers import Embedding, LSTM, Dense, Dropout, GlobalAveragePooling1D, Conv1D, MaxPooling1D\n",
        "from tensorflow.keras.preprocessing.text import Tokenizer\n",
        "from tensorflow.keras.preprocessing.sequence import pad_sequences\n",
        "\n",
        "from transformers import BertTokenizer, TFBertForSequenceClassification\n",
        "from tensorflow.keras.optimizers import Adam\n",
        "\n",
        "nltk.download('stopwords')\n",
        "from nltk.corpus import stopwords\n",
        "stop_words = set(stopwords.words('english'))"
      ]
    },
    {
      "cell_type": "code",
      "execution_count": null,
      "metadata": {
        "colab": {
          "base_uri": "https://localhost:8080/",
          "height": 108
        },
        "id": "HBUs-RNmAfKS",
        "outputId": "2a5f3465-90e3-4172-e68d-ceab572b6982"
      },
      "outputs": [
        {
          "output_type": "display_data",
          "data": {
            "text/plain": [
              "<IPython.core.display.HTML object>"
            ],
            "text/html": [
              "\n",
              "     <input type=\"file\" id=\"files-28e1c4b8-b989-4d74-ae50-fbb1df4d7c8f\" name=\"files[]\" multiple disabled\n",
              "        style=\"border:none\" />\n",
              "     <output id=\"result-28e1c4b8-b989-4d74-ae50-fbb1df4d7c8f\">\n",
              "      Upload widget is only available when the cell has been executed in the\n",
              "      current browser session. Please rerun this cell to enable.\n",
              "      </output>\n",
              "      <script>// Copyright 2017 Google LLC\n",
              "//\n",
              "// Licensed under the Apache License, Version 2.0 (the \"License\");\n",
              "// you may not use this file except in compliance with the License.\n",
              "// You may obtain a copy of the License at\n",
              "//\n",
              "//      http://www.apache.org/licenses/LICENSE-2.0\n",
              "//\n",
              "// Unless required by applicable law or agreed to in writing, software\n",
              "// distributed under the License is distributed on an \"AS IS\" BASIS,\n",
              "// WITHOUT WARRANTIES OR CONDITIONS OF ANY KIND, either express or implied.\n",
              "// See the License for the specific language governing permissions and\n",
              "// limitations under the License.\n",
              "\n",
              "/**\n",
              " * @fileoverview Helpers for google.colab Python module.\n",
              " */\n",
              "(function(scope) {\n",
              "function span(text, styleAttributes = {}) {\n",
              "  const element = document.createElement('span');\n",
              "  element.textContent = text;\n",
              "  for (const key of Object.keys(styleAttributes)) {\n",
              "    element.style[key] = styleAttributes[key];\n",
              "  }\n",
              "  return element;\n",
              "}\n",
              "\n",
              "// Max number of bytes which will be uploaded at a time.\n",
              "const MAX_PAYLOAD_SIZE = 100 * 1024;\n",
              "\n",
              "function _uploadFiles(inputId, outputId) {\n",
              "  const steps = uploadFilesStep(inputId, outputId);\n",
              "  const outputElement = document.getElementById(outputId);\n",
              "  // Cache steps on the outputElement to make it available for the next call\n",
              "  // to uploadFilesContinue from Python.\n",
              "  outputElement.steps = steps;\n",
              "\n",
              "  return _uploadFilesContinue(outputId);\n",
              "}\n",
              "\n",
              "// This is roughly an async generator (not supported in the browser yet),\n",
              "// where there are multiple asynchronous steps and the Python side is going\n",
              "// to poll for completion of each step.\n",
              "// This uses a Promise to block the python side on completion of each step,\n",
              "// then passes the result of the previous step as the input to the next step.\n",
              "function _uploadFilesContinue(outputId) {\n",
              "  const outputElement = document.getElementById(outputId);\n",
              "  const steps = outputElement.steps;\n",
              "\n",
              "  const next = steps.next(outputElement.lastPromiseValue);\n",
              "  return Promise.resolve(next.value.promise).then((value) => {\n",
              "    // Cache the last promise value to make it available to the next\n",
              "    // step of the generator.\n",
              "    outputElement.lastPromiseValue = value;\n",
              "    return next.value.response;\n",
              "  });\n",
              "}\n",
              "\n",
              "/**\n",
              " * Generator function which is called between each async step of the upload\n",
              " * process.\n",
              " * @param {string} inputId Element ID of the input file picker element.\n",
              " * @param {string} outputId Element ID of the output display.\n",
              " * @return {!Iterable<!Object>} Iterable of next steps.\n",
              " */\n",
              "function* uploadFilesStep(inputId, outputId) {\n",
              "  const inputElement = document.getElementById(inputId);\n",
              "  inputElement.disabled = false;\n",
              "\n",
              "  const outputElement = document.getElementById(outputId);\n",
              "  outputElement.innerHTML = '';\n",
              "\n",
              "  const pickedPromise = new Promise((resolve) => {\n",
              "    inputElement.addEventListener('change', (e) => {\n",
              "      resolve(e.target.files);\n",
              "    });\n",
              "  });\n",
              "\n",
              "  const cancel = document.createElement('button');\n",
              "  inputElement.parentElement.appendChild(cancel);\n",
              "  cancel.textContent = 'Cancel upload';\n",
              "  const cancelPromise = new Promise((resolve) => {\n",
              "    cancel.onclick = () => {\n",
              "      resolve(null);\n",
              "    };\n",
              "  });\n",
              "\n",
              "  // Wait for the user to pick the files.\n",
              "  const files = yield {\n",
              "    promise: Promise.race([pickedPromise, cancelPromise]),\n",
              "    response: {\n",
              "      action: 'starting',\n",
              "    }\n",
              "  };\n",
              "\n",
              "  cancel.remove();\n",
              "\n",
              "  // Disable the input element since further picks are not allowed.\n",
              "  inputElement.disabled = true;\n",
              "\n",
              "  if (!files) {\n",
              "    return {\n",
              "      response: {\n",
              "        action: 'complete',\n",
              "      }\n",
              "    };\n",
              "  }\n",
              "\n",
              "  for (const file of files) {\n",
              "    const li = document.createElement('li');\n",
              "    li.append(span(file.name, {fontWeight: 'bold'}));\n",
              "    li.append(span(\n",
              "        `(${file.type || 'n/a'}) - ${file.size} bytes, ` +\n",
              "        `last modified: ${\n",
              "            file.lastModifiedDate ? file.lastModifiedDate.toLocaleDateString() :\n",
              "                                    'n/a'} - `));\n",
              "    const percent = span('0% done');\n",
              "    li.appendChild(percent);\n",
              "\n",
              "    outputElement.appendChild(li);\n",
              "\n",
              "    const fileDataPromise = new Promise((resolve) => {\n",
              "      const reader = new FileReader();\n",
              "      reader.onload = (e) => {\n",
              "        resolve(e.target.result);\n",
              "      };\n",
              "      reader.readAsArrayBuffer(file);\n",
              "    });\n",
              "    // Wait for the data to be ready.\n",
              "    let fileData = yield {\n",
              "      promise: fileDataPromise,\n",
              "      response: {\n",
              "        action: 'continue',\n",
              "      }\n",
              "    };\n",
              "\n",
              "    // Use a chunked sending to avoid message size limits. See b/62115660.\n",
              "    let position = 0;\n",
              "    do {\n",
              "      const length = Math.min(fileData.byteLength - position, MAX_PAYLOAD_SIZE);\n",
              "      const chunk = new Uint8Array(fileData, position, length);\n",
              "      position += length;\n",
              "\n",
              "      const base64 = btoa(String.fromCharCode.apply(null, chunk));\n",
              "      yield {\n",
              "        response: {\n",
              "          action: 'append',\n",
              "          file: file.name,\n",
              "          data: base64,\n",
              "        },\n",
              "      };\n",
              "\n",
              "      let percentDone = fileData.byteLength === 0 ?\n",
              "          100 :\n",
              "          Math.round((position / fileData.byteLength) * 100);\n",
              "      percent.textContent = `${percentDone}% done`;\n",
              "\n",
              "    } while (position < fileData.byteLength);\n",
              "  }\n",
              "\n",
              "  // All done.\n",
              "  yield {\n",
              "    response: {\n",
              "      action: 'complete',\n",
              "    }\n",
              "  };\n",
              "}\n",
              "\n",
              "scope.google = scope.google || {};\n",
              "scope.google.colab = scope.google.colab || {};\n",
              "scope.google.colab._files = {\n",
              "  _uploadFiles,\n",
              "  _uploadFilesContinue,\n",
              "};\n",
              "})(self);\n",
              "</script> "
            ]
          },
          "metadata": {}
        },
        {
          "output_type": "stream",
          "name": "stdout",
          "text": [
            "Saving Fake.csv to Fake.csv\n",
            "Saving True.csv to True.csv\n"
          ]
        }
      ],
      "source": [
        "from google.colab import files\n",
        "uploaded = files.upload()"
      ]
    },
    {
      "cell_type": "code",
      "execution_count": null,
      "metadata": {
        "id": "ikObV5_1JZjz",
        "colab": {
          "base_uri": "https://localhost:8080/"
        },
        "outputId": "9aa84043-ee01-4421-ce82-8c70ce55a36f"
      },
      "outputs": [
        {
          "output_type": "stream",
          "name": "stderr",
          "text": [
            "/tmp/ipython-input-3717745240.py:5: SettingWithCopyWarning: \n",
            "A value is trying to be set on a copy of a slice from a DataFrame.\n",
            "Try using .loc[row_indexer,col_indexer] = value instead\n",
            "\n",
            "See the caveats in the documentation: https://pandas.pydata.org/pandas-docs/stable/user_guide/indexing.html#returning-a-view-versus-a-copy\n",
            "  real_df['label'] = 1  # Real\n"
          ]
        }
      ],
      "source": [
        "fake_df = pd.read_csv(\"Fake.csv\")[['text']]\n",
        "fake_df['label'] = 0  # Fake\n",
        "\n",
        "real_df = pd.read_csv(\"True.csv\")[['text']]\n",
        "real_df['label'] = 1  # Real\n",
        "\n",
        "# Combine and shuffle\n",
        "data = pd.concat([fake_df, real_df], ignore_index=True)\n",
        "data = data.sample(frac=1).reset_index(drop=True)"
      ]
    },
    {
      "cell_type": "code",
      "source": [
        "data['label'].value_counts()\n"
      ],
      "metadata": {
        "id": "1gkPLwe2hIdA",
        "outputId": "42ca1cb3-4816-41b1-c08e-05475236780b",
        "colab": {
          "base_uri": "https://localhost:8080/",
          "height": 178
        }
      },
      "execution_count": null,
      "outputs": [
        {
          "output_type": "execute_result",
          "data": {
            "text/plain": [
              "label\n",
              "0    23481\n",
              "1    21417\n",
              "Name: count, dtype: int64"
            ],
            "text/html": [
              "<div>\n",
              "<style scoped>\n",
              "    .dataframe tbody tr th:only-of-type {\n",
              "        vertical-align: middle;\n",
              "    }\n",
              "\n",
              "    .dataframe tbody tr th {\n",
              "        vertical-align: top;\n",
              "    }\n",
              "\n",
              "    .dataframe thead th {\n",
              "        text-align: right;\n",
              "    }\n",
              "</style>\n",
              "<table border=\"1\" class=\"dataframe\">\n",
              "  <thead>\n",
              "    <tr style=\"text-align: right;\">\n",
              "      <th></th>\n",
              "      <th>count</th>\n",
              "    </tr>\n",
              "    <tr>\n",
              "      <th>label</th>\n",
              "      <th></th>\n",
              "    </tr>\n",
              "  </thead>\n",
              "  <tbody>\n",
              "    <tr>\n",
              "      <th>0</th>\n",
              "      <td>23481</td>\n",
              "    </tr>\n",
              "    <tr>\n",
              "      <th>1</th>\n",
              "      <td>21417</td>\n",
              "    </tr>\n",
              "  </tbody>\n",
              "</table>\n",
              "</div><br><label><b>dtype:</b> int64</label>"
            ]
          },
          "metadata": {},
          "execution_count": 5
        }
      ]
    },
    {
      "cell_type": "code",
      "execution_count": null,
      "metadata": {
        "id": "Q2AoV40dJeir"
      },
      "outputs": [],
      "source": [
        "def clean_text(text):\n",
        "    text = text.lower()\n",
        "    text = re.sub(r'[^\\w\\s]', '', text)\n",
        "    return \" \".join([word for word in text.split() if word not in stop_words])\n",
        "\n",
        "data['text'] = data['text'].apply(clean_text)"
      ]
    },
    {
      "cell_type": "code",
      "execution_count": null,
      "metadata": {
        "id": "rnJtEZPLJl5S"
      },
      "outputs": [],
      "source": [
        "X = data['text']\n",
        "y = data['label']\n",
        "\n",
        "X_train, X_test, y_train, y_test = train_test_split(X, y, test_size=0.2, random_state=42)\n",
        "\n",
        "# Tokenization\n",
        "vocab_size = 20000\n",
        "max_len = 300\n",
        "tokenizer = Tokenizer(num_words=vocab_size, oov_token='<OOV>')\n",
        "tokenizer.fit_on_texts(X_train)\n",
        "\n",
        "X_train_seq = tokenizer.texts_to_sequences(X_train)\n",
        "X_test_seq = tokenizer.texts_to_sequences(X_test)\n",
        "\n",
        "X_train_pad = pad_sequences(X_train_seq, maxlen=max_len, padding='post')\n",
        "X_test_pad = pad_sequences(X_test_seq, maxlen=max_len, padding='post')\n"
      ]
    },
    {
      "cell_type": "code",
      "execution_count": null,
      "metadata": {
        "id": "H7Dzfzffdm3W"
      },
      "outputs": [],
      "source": [
        "from sklearn.metrics import confusion_matrix, ConfusionMatrixDisplay\n",
        "\n",
        "\n",
        "def plot_conf_matrix(y_true, y_pred, model_name):\n",
        "    cm = confusion_matrix(y_true, y_pred)\n",
        "    disp = ConfusionMatrixDisplay(confusion_matrix=cm, display_labels=[\"Fake\", \"Real\"])\n",
        "    disp.plot(cmap=\"Blues\", values_format=\"d\")\n",
        "    plt.title(f\"{model_name} - Confusion Matrix\")\n",
        "    plt.grid(False)\n",
        "    plt.show()\n"
      ]
    },
    {
      "cell_type": "code",
      "execution_count": null,
      "metadata": {
        "colab": {
          "base_uri": "https://localhost:8080/"
        },
        "id": "A4NliK7nJqjX",
        "outputId": "dddb3a2c-63d2-4a96-8d57-126226a19475"
      },
      "outputs": [
        {
          "name": "stderr",
          "output_type": "stream",
          "text": [
            "/usr/local/lib/python3.11/dist-packages/keras/src/layers/core/embedding.py:90: UserWarning: Argument `input_length` is deprecated. Just remove it.\n",
            "  warnings.warn(\n"
          ]
        },
        {
          "name": "stdout",
          "output_type": "stream",
          "text": [
            "Epoch 1/20\n",
            "\u001b[1m225/225\u001b[0m \u001b[32m━━━━━━━━━━━━━━━━━━━━\u001b[0m\u001b[37m\u001b[0m \u001b[1m164s\u001b[0m 716ms/step - accuracy: 0.6673 - loss: 0.6190 - val_accuracy: 0.8694 - val_loss: 0.3776\n",
            "Epoch 2/20\n",
            "\u001b[1m225/225\u001b[0m \u001b[32m━━━━━━━━━━━━━━━━━━━━\u001b[0m\u001b[37m\u001b[0m \u001b[1m204s\u001b[0m 728ms/step - accuracy: 0.8823 - loss: 0.3510 - val_accuracy: 0.9188 - val_loss: 0.2624\n",
            "Epoch 3/20\n",
            "\u001b[1m225/225\u001b[0m \u001b[32m━━━━━━━━━━━━━━━━━━━━\u001b[0m\u001b[37m\u001b[0m \u001b[1m199s\u001b[0m 715ms/step - accuracy: 0.9164 - loss: 0.2701 - val_accuracy: 0.6258 - val_loss: 0.6029\n",
            "Epoch 4/20\n",
            "\u001b[1m225/225\u001b[0m \u001b[32m━━━━━━━━━━━━━━━━━━━━\u001b[0m\u001b[37m\u001b[0m \u001b[1m203s\u001b[0m 720ms/step - accuracy: 0.6335 - loss: 0.5710 - val_accuracy: 0.6506 - val_loss: 0.5529\n",
            "Epoch 5/20\n",
            "\u001b[1m225/225\u001b[0m \u001b[32m━━━━━━━━━━━━━━━━━━━━\u001b[0m\u001b[37m\u001b[0m \u001b[1m202s\u001b[0m 724ms/step - accuracy: 0.6587 - loss: 0.5286 - val_accuracy: 0.9269 - val_loss: 0.3330\n",
            "Epoch 6/20\n",
            "\u001b[1m225/225\u001b[0m \u001b[32m━━━━━━━━━━━━━━━━━━━━\u001b[0m\u001b[37m\u001b[0m \u001b[1m202s\u001b[0m 725ms/step - accuracy: 0.9544 - loss: 0.2005 - val_accuracy: 0.9745 - val_loss: 0.0978\n",
            "Epoch 7/20\n",
            "\u001b[1m225/225\u001b[0m \u001b[32m━━━━━━━━━━━━━━━━━━━━\u001b[0m\u001b[37m\u001b[0m \u001b[1m192s\u001b[0m 682ms/step - accuracy: 0.9819 - loss: 0.0892 - val_accuracy: 0.9823 - val_loss: 0.0628\n",
            "Epoch 8/20\n",
            "\u001b[1m225/225\u001b[0m \u001b[32m━━━━━━━━━━━━━━━━━━━━\u001b[0m\u001b[37m\u001b[0m \u001b[1m156s\u001b[0m 694ms/step - accuracy: 0.9903 - loss: 0.0498 - val_accuracy: 0.9851 - val_loss: 0.0571\n",
            "Epoch 9/20\n",
            "\u001b[1m225/225\u001b[0m \u001b[32m━━━━━━━━━━━━━━━━━━━━\u001b[0m\u001b[37m\u001b[0m \u001b[1m210s\u001b[0m 728ms/step - accuracy: 0.9940 - loss: 0.0330 - val_accuracy: 0.9857 - val_loss: 0.0559\n",
            "Epoch 10/20\n",
            "\u001b[1m225/225\u001b[0m \u001b[32m━━━━━━━━━━━━━━━━━━━━\u001b[0m\u001b[37m\u001b[0m \u001b[1m203s\u001b[0m 731ms/step - accuracy: 0.9964 - loss: 0.0195 - val_accuracy: 0.9826 - val_loss: 0.0629\n",
            "Epoch 11/20\n",
            "\u001b[1m225/225\u001b[0m \u001b[32m━━━━━━━━━━━━━━━━━━━━\u001b[0m\u001b[37m\u001b[0m \u001b[1m158s\u001b[0m 701ms/step - accuracy: 0.9982 - loss: 0.0127 - val_accuracy: 0.9898 - val_loss: 0.0448\n",
            "Epoch 12/20\n",
            "\u001b[1m225/225\u001b[0m \u001b[32m━━━━━━━━━━━━━━━━━━━━\u001b[0m\u001b[37m\u001b[0m \u001b[1m165s\u001b[0m 736ms/step - accuracy: 0.9979 - loss: 0.0121 - val_accuracy: 0.9901 - val_loss: 0.0455\n",
            "Epoch 13/20\n",
            "\u001b[1m225/225\u001b[0m \u001b[32m━━━━━━━━━━━━━━━━━━━━\u001b[0m\u001b[37m\u001b[0m \u001b[1m201s\u001b[0m 733ms/step - accuracy: 0.9989 - loss: 0.0086 - val_accuracy: 0.9915 - val_loss: 0.0401\n",
            "Epoch 14/20\n",
            "\u001b[1m225/225\u001b[0m \u001b[32m━━━━━━━━━━━━━━━━━━━━\u001b[0m\u001b[37m\u001b[0m \u001b[1m200s\u001b[0m 725ms/step - accuracy: 0.9989 - loss: 0.0070 - val_accuracy: 0.9901 - val_loss: 0.0446\n",
            "Epoch 15/20\n",
            "\u001b[1m225/225\u001b[0m \u001b[32m━━━━━━━━━━━━━━━━━━━━\u001b[0m\u001b[37m\u001b[0m \u001b[1m198s\u001b[0m 708ms/step - accuracy: 0.9991 - loss: 0.0056 - val_accuracy: 0.9847 - val_loss: 0.0618\n",
            "Epoch 16/20\n",
            "\u001b[1m225/225\u001b[0m \u001b[32m━━━━━━━━━━━━━━━━━━━━\u001b[0m\u001b[37m\u001b[0m \u001b[1m166s\u001b[0m 740ms/step - accuracy: 0.9995 - loss: 0.0034 - val_accuracy: 0.9891 - val_loss: 0.0511\n",
            "Epoch 17/20\n",
            "\u001b[1m225/225\u001b[0m \u001b[32m━━━━━━━━━━━━━━━━━━━━\u001b[0m\u001b[37m\u001b[0m \u001b[1m202s\u001b[0m 740ms/step - accuracy: 0.9991 - loss: 0.0048 - val_accuracy: 0.9894 - val_loss: 0.0522\n",
            "Epoch 18/20\n",
            "\u001b[1m225/225\u001b[0m \u001b[32m━━━━━━━━━━━━━━━━━━━━\u001b[0m\u001b[37m\u001b[0m \u001b[1m154s\u001b[0m 684ms/step - accuracy: 0.9995 - loss: 0.0024 - val_accuracy: 0.9890 - val_loss: 0.0606\n",
            "Epoch 19/20\n",
            "\u001b[1m225/225\u001b[0m \u001b[32m━━━━━━━━━━━━━━━━━━━━\u001b[0m\u001b[37m\u001b[0m \u001b[1m211s\u001b[0m 727ms/step - accuracy: 0.9995 - loss: 0.0036 - val_accuracy: 0.9891 - val_loss: 0.0602\n",
            "Epoch 20/20\n",
            "\u001b[1m225/225\u001b[0m \u001b[32m━━━━━━━━━━━━━━━━━━━━\u001b[0m\u001b[37m\u001b[0m \u001b[1m203s\u001b[0m 731ms/step - accuracy: 1.0000 - loss: 9.0489e-04 - val_accuracy: 0.9901 - val_loss: 0.0622\n"
          ]
        },
        {
          "data": {
            "text/plain": [
              "<keras.src.callbacks.history.History at 0x7d5683fb5ad0>"
            ]
          },
          "execution_count": 8,
          "metadata": {},
          "output_type": "execute_result"
        }
      ],
      "source": [
        "lstm_model = Sequential([\n",
        "    Embedding(vocab_size, 128, input_length=max_len),\n",
        "    LSTM(64),\n",
        "    Dropout(0.5),\n",
        "    Dense(1, activation='sigmoid')\n",
        "])\n",
        "lstm_model.compile(loss='binary_crossentropy', optimizer='adam', metrics=['accuracy'])\n",
        "\n",
        "#  Training\n",
        "lstm_model.fit(X_train_pad, y_train, epochs=20, batch_size=128, validation_split=0.2)\n"
      ]
    },
    {
      "cell_type": "code",
      "execution_count": null,
      "metadata": {
        "id": "ME-mJ-QIQCZ6"
      },
      "outputs": [],
      "source": [
        "def evaluate_and_print(y_true, y_pred, model_name):\n",
        "    acc = accuracy_score(y_true, y_pred)\n",
        "    prec = precision_score(y_true, y_pred)\n",
        "    rec = recall_score(y_true, y_pred)\n",
        "    f1 = f1_score(y_true, y_pred)\n",
        "    print(f\"\\n✅ {model_name} Performance:\")\n",
        "    print(f\"Accuracy:  {acc:.4f}\")\n",
        "    print(f\"Precision: {prec:.4f}\")\n",
        "    print(f\"Recall:    {rec:.4f}\")\n",
        "    print(f\"F1 Score:  {f1:.4f}\")\n",
        "    return acc, prec, rec, f1\n"
      ]
    },
    {
      "cell_type": "code",
      "execution_count": null,
      "metadata": {
        "colab": {
          "base_uri": "https://localhost:8080/"
        },
        "id": "Nr6k2N9uQEgW",
        "outputId": "0935ff02-fb8e-4227-9e35-ea8ccf51a286"
      },
      "outputs": [
        {
          "name": "stdout",
          "output_type": "stream",
          "text": [
            "\u001b[1m281/281\u001b[0m \u001b[32m━━━━━━━━━━━━━━━━━━━━\u001b[0m\u001b[37m\u001b[0m \u001b[1m16s\u001b[0m 55ms/step\n"
          ]
        }
      ],
      "source": [
        "lstm_preds = (lstm_model.predict(X_test_pad) > 0.5).astype(\"int32\")\n"
      ]
    },
    {
      "cell_type": "code",
      "execution_count": null,
      "metadata": {
        "colab": {
          "base_uri": "https://localhost:8080/"
        },
        "id": "0xXl5GhtQYkU",
        "outputId": "694b346c-4c43-40b0-9b36-248361f94bab"
      },
      "outputs": [
        {
          "name": "stdout",
          "output_type": "stream",
          "text": [
            "\n",
            "✅ LSTM Performance:\n",
            "Accuracy:  0.9891\n",
            "Precision: 0.9867\n",
            "Recall:    0.9904\n",
            "F1 Score:  0.9885\n"
          ]
        },
        {
          "data": {
            "text/plain": [
              "(0.989086859688196, 0.9866541793490986, 0.990364277320799, 0.9885057471264368)"
            ]
          },
          "execution_count": 11,
          "metadata": {},
          "output_type": "execute_result"
        }
      ],
      "source": [
        "evaluate_and_print(y_test, lstm_preds, \"LSTM\")\n"
      ]
    },
    {
      "cell_type": "code",
      "execution_count": null,
      "metadata": {
        "colab": {
          "base_uri": "https://localhost:8080/",
          "height": 472
        },
        "id": "Q9Z31sPVdqpL",
        "outputId": "e9991113-d25b-42b8-f961-22356c45db11"
      },
      "outputs": [
        {
          "data": {
            "image/png": "[encoded data removed]",
            "text/plain": [
              "<Figure size 640x480 with 2 Axes>"
            ]
          },
          "metadata": {},
          "output_type": "display_data"
        }
      ],
      "source": [
        "plot_conf_matrix(y_test, lstm_preds, \"LSTM\")\n"
      ]
    },
    {
      "cell_type": "code",
      "execution_count": null,
      "metadata": {
        "colab": {
          "background_save": true,
          "base_uri": "https://localhost:8080/"
        },
        "id": "VQCQAW0rRuix",
        "outputId": "b096dd1f-7c30-4653-f90b-2ffb59896bdf"
      },
      "outputs": [
        {
          "name": "stdout",
          "output_type": "stream",
          "text": [
            "Epoch 1/100\n",
            "\u001b[1m225/225\u001b[0m \u001b[32m━━━━━━━━━━━━━━━━━━━━\u001b[0m\u001b[37m\u001b[0m \u001b[1m11s\u001b[0m 46ms/step - accuracy: 0.7828 - loss: 0.4683 - val_accuracy: 0.9791 - val_loss: 0.0856\n",
            "Epoch 2/100\n",
            "\u001b[1m225/225\u001b[0m \u001b[32m━━━━━━━━━━━━━━━━━━━━\u001b[0m\u001b[37m\u001b[0m \u001b[1m11s\u001b[0m 50ms/step - accuracy: 0.9801 - loss: 0.0757 - val_accuracy: 0.9883 - val_loss: 0.0514\n",
            "Epoch 3/100\n",
            "\u001b[1m225/225\u001b[0m \u001b[32m━━━━━━━━━━━━━━━━━━━━\u001b[0m\u001b[37m\u001b[0m \u001b[1m20s\u001b[0m 48ms/step - accuracy: 0.9868 - loss: 0.0429 - val_accuracy: 0.9904 - val_loss: 0.0365\n",
            "Epoch 4/100\n",
            "\u001b[1m225/225\u001b[0m \u001b[32m━━━━━━━━━━━━━━━━━━━━\u001b[0m\u001b[37m\u001b[0m \u001b[1m9s\u001b[0m 42ms/step - accuracy: 0.9962 - loss: 0.0189 - val_accuracy: 0.9912 - val_loss: 0.0325\n",
            "Epoch 5/100\n",
            "\u001b[1m225/225\u001b[0m \u001b[32m━━━━━━━━━━━━━━━━━━━━\u001b[0m\u001b[37m\u001b[0m \u001b[1m7s\u001b[0m 32ms/step - accuracy: 0.9984 - loss: 0.0108 - val_accuracy: 0.9928 - val_loss: 0.0291\n",
            "Epoch 6/100\n",
            "\u001b[1m225/225\u001b[0m \u001b[32m━━━━━━━━━━━━━━━━━━━━\u001b[0m\u001b[37m\u001b[0m \u001b[1m14s\u001b[0m 49ms/step - accuracy: 0.9989 - loss: 0.0070 - val_accuracy: 0.9904 - val_loss: 0.0351\n",
            "Epoch 7/100\n",
            "\u001b[1m225/225\u001b[0m \u001b[32m━━━━━━━━━━━━━━━━━━━━\u001b[0m\u001b[37m\u001b[0m \u001b[1m19s\u001b[0m 41ms/step - accuracy: 0.9803 - loss: 0.0451 - val_accuracy: 0.9919 - val_loss: 0.0313\n",
            "Epoch 8/100\n",
            "\u001b[1m225/225\u001b[0m \u001b[32m━━━━━━━━━━━━━━━━━━━━\u001b[0m\u001b[37m\u001b[0m \u001b[1m9s\u001b[0m 41ms/step - accuracy: 0.9911 - loss: 0.0310 - val_accuracy: 0.9908 - val_loss: 0.0347\n",
            "Epoch 9/100\n",
            "\u001b[1m225/225\u001b[0m \u001b[32m━━━━━━━━━━━━━━━━━━━━\u001b[0m\u001b[37m\u001b[0m \u001b[1m10s\u001b[0m 46ms/step - accuracy: 0.9991 - loss: 0.0045 - val_accuracy: 0.9928 - val_loss: 0.0319\n",
            "Epoch 10/100\n",
            "\u001b[1m225/225\u001b[0m \u001b[32m━━━━━━━━━━━━━━━━━━━━\u001b[0m\u001b[37m\u001b[0m \u001b[1m9s\u001b[0m 40ms/step - accuracy: 0.9997 - loss: 0.0024 - val_accuracy: 0.9910 - val_loss: 0.0366\n",
            "Epoch 11/100\n",
            "\u001b[1m225/225\u001b[0m \u001b[32m━━━━━━━━━━━━━━━━━━━━\u001b[0m\u001b[37m\u001b[0m \u001b[1m13s\u001b[0m 52ms/step - accuracy: 0.9990 - loss: 0.0039 - val_accuracy: 0.9894 - val_loss: 0.0952\n",
            "Epoch 12/100\n",
            "\u001b[1m225/225\u001b[0m \u001b[32m━━━━━━━━━━━━━━━━━━━━\u001b[0m\u001b[37m\u001b[0m \u001b[1m8s\u001b[0m 35ms/step - accuracy: 0.9923 - loss: 0.0246 - val_accuracy: 0.9918 - val_loss: 0.0388\n",
            "Epoch 13/100\n",
            "\u001b[1m225/225\u001b[0m \u001b[32m━━━━━━━━━━━━━━━━━━━━\u001b[0m\u001b[37m\u001b[0m \u001b[1m11s\u001b[0m 37ms/step - accuracy: 0.9998 - loss: 0.0015 - val_accuracy: 0.9914 - val_loss: 0.0395\n",
            "Epoch 14/100\n",
            "\u001b[1m225/225\u001b[0m \u001b[32m━━━━━━━━━━━━━━━━━━━━\u001b[0m\u001b[37m\u001b[0m \u001b[1m10s\u001b[0m 36ms/step - accuracy: 0.9897 - loss: 0.0377 - val_accuracy: 0.9911 - val_loss: 0.0449\n",
            "Epoch 15/100\n",
            "\u001b[1m225/225\u001b[0m \u001b[32m━━━━━━━━━━━━━━━━━━━━\u001b[0m\u001b[37m\u001b[0m \u001b[1m12s\u001b[0m 42ms/step - accuracy: 0.9997 - loss: 0.0018 - val_accuracy: 0.9901 - val_loss: 0.0465\n",
            "Epoch 16/100\n",
            "\u001b[1m225/225\u001b[0m \u001b[32m━━━━━━━━━━━━━━━━━━━━\u001b[0m\u001b[37m\u001b[0m \u001b[1m10s\u001b[0m 40ms/step - accuracy: 0.9998 - loss: 0.0019 - val_accuracy: 0.9910 - val_loss: 0.0463\n",
            "Epoch 17/100\n",
            "\u001b[1m225/225\u001b[0m \u001b[32m━━━━━━━━━━━━━━━━━━━━\u001b[0m\u001b[37m\u001b[0m \u001b[1m10s\u001b[0m 38ms/step - accuracy: 0.9997 - loss: 0.0016 - val_accuracy: 0.9911 - val_loss: 0.0483\n",
            "Epoch 18/100\n",
            "\u001b[1m225/225\u001b[0m \u001b[32m━━━━━━━━━━━━━━━━━━━━\u001b[0m\u001b[37m\u001b[0m \u001b[1m10s\u001b[0m 36ms/step - accuracy: 0.9999 - loss: 0.0013 - val_accuracy: 0.9912 - val_loss: 0.0489\n",
            "Epoch 19/100\n",
            "\u001b[1m225/225\u001b[0m \u001b[32m━━━━━━━━━━━━━━━━━━━━\u001b[0m\u001b[37m\u001b[0m \u001b[1m8s\u001b[0m 35ms/step - accuracy: 0.9992 - loss: 0.0025 - val_accuracy: 0.9911 - val_loss: 0.0522\n",
            "Epoch 20/100\n",
            "\u001b[1m225/225\u001b[0m \u001b[32m━━━━━━━━━━━━━━━━━━━━\u001b[0m\u001b[37m\u001b[0m \u001b[1m10s\u001b[0m 43ms/step - accuracy: 1.0000 - loss: 0.0015 - val_accuracy: 0.9912 - val_loss: 0.0549\n",
            "Epoch 21/100\n",
            "\u001b[1m225/225\u001b[0m \u001b[32m━━━━━━━━━━━━━━━━━━━━\u001b[0m\u001b[37m\u001b[0m \u001b[1m10s\u001b[0m 42ms/step - accuracy: 1.0000 - loss: 8.2137e-04 - val_accuracy: 0.9912 - val_loss: 0.0556\n",
            "Epoch 22/100\n",
            "\u001b[1m225/225\u001b[0m \u001b[32m━━━━━━━━━━━━━━━━━━━━\u001b[0m\u001b[37m\u001b[0m \u001b[1m13s\u001b[0m 56ms/step - accuracy: 0.9999 - loss: 0.0011 - val_accuracy: 0.9912 - val_loss: 0.0568\n",
            "Epoch 23/100\n",
            "\u001b[1m225/225\u001b[0m \u001b[32m━━━━━━━━━━━━━━━━━━━━\u001b[0m\u001b[37m\u001b[0m \u001b[1m9s\u001b[0m 38ms/step - accuracy: 0.9978 - loss: 0.0086 - val_accuracy: 0.9603 - val_loss: 0.1910\n",
            "Epoch 24/100\n",
            "\u001b[1m225/225\u001b[0m \u001b[32m━━━━━━━━━━━━━━━━━━━━\u001b[0m\u001b[37m\u001b[0m \u001b[1m10s\u001b[0m 45ms/step - accuracy: 0.9925 - loss: 0.0444 - val_accuracy: 0.9914 - val_loss: 0.0547\n",
            "Epoch 25/100\n",
            "\u001b[1m225/225\u001b[0m \u001b[32m━━━━━━━━━━━━━━━━━━━━\u001b[0m\u001b[37m\u001b[0m \u001b[1m8s\u001b[0m 36ms/step - accuracy: 0.9997 - loss: 0.0043 - val_accuracy: 0.9912 - val_loss: 0.0564\n",
            "Epoch 26/100\n",
            "\u001b[1m225/225\u001b[0m \u001b[32m━━━━━━━━━━━━━━━━━━━━\u001b[0m\u001b[37m\u001b[0m \u001b[1m11s\u001b[0m 41ms/step - accuracy: 0.9998 - loss: 0.0023 - val_accuracy: 0.9908 - val_loss: 0.0589\n",
            "Epoch 27/100\n",
            "\u001b[1m225/225\u001b[0m \u001b[32m━━━━━━━━━━━━━━━━━━━━\u001b[0m\u001b[37m\u001b[0m \u001b[1m9s\u001b[0m 38ms/step - accuracy: 0.9997 - loss: 0.0022 - val_accuracy: 0.9912 - val_loss: 0.0623\n",
            "Epoch 28/100\n",
            "\u001b[1m225/225\u001b[0m \u001b[32m━━━━━━━━━━━━━━━━━━━━\u001b[0m\u001b[37m\u001b[0m \u001b[1m10s\u001b[0m 43ms/step - accuracy: 1.0000 - loss: 6.9424e-04 - val_accuracy: 0.9911 - val_loss: 0.0631\n",
            "Epoch 29/100\n",
            "\u001b[1m225/225\u001b[0m \u001b[32m━━━━━━━━━━━━━━━━━━━━\u001b[0m\u001b[37m\u001b[0m \u001b[1m8s\u001b[0m 36ms/step - accuracy: 0.9995 - loss: 0.0020 - val_accuracy: 0.9914 - val_loss: 0.0650\n",
            "Epoch 30/100\n",
            "\u001b[1m225/225\u001b[0m \u001b[32m━━━━━━━━━━━━━━━━━━━━\u001b[0m\u001b[37m\u001b[0m \u001b[1m8s\u001b[0m 36ms/step - accuracy: 0.9999 - loss: 8.4845e-04 - val_accuracy: 0.9911 - val_loss: 0.0662\n",
            "Epoch 31/100\n",
            "\u001b[1m225/225\u001b[0m \u001b[32m━━━━━━━━━━━━━━━━━━━━\u001b[0m\u001b[37m\u001b[0m \u001b[1m11s\u001b[0m 40ms/step - accuracy: 0.9930 - loss: 0.0222 - val_accuracy: 0.9911 - val_loss: 0.0719\n",
            "Epoch 32/100\n",
            "\u001b[1m225/225\u001b[0m \u001b[32m━━━━━━━━━━━━━━━━━━━━\u001b[0m\u001b[37m\u001b[0m \u001b[1m10s\u001b[0m 46ms/step - accuracy: 0.9998 - loss: 8.0418e-04 - val_accuracy: 0.9907 - val_loss: 0.0752\n",
            "Epoch 33/100\n",
            "\u001b[1m225/225\u001b[0m \u001b[32m━━━━━━━━━━━━━━━━━━━━\u001b[0m\u001b[37m\u001b[0m \u001b[1m19s\u001b[0m 38ms/step - accuracy: 0.9999 - loss: 4.8663e-04 - val_accuracy: 0.9914 - val_loss: 0.0731\n",
            "Epoch 34/100\n",
            "\u001b[1m225/225\u001b[0m \u001b[32m━━━━━━━━━━━━━━━━━━━━\u001b[0m\u001b[37m\u001b[0m \u001b[1m9s\u001b[0m 40ms/step - accuracy: 0.9994 - loss: 0.0022 - val_accuracy: 0.9911 - val_loss: 0.0764\n",
            "Epoch 35/100\n",
            "\u001b[1m225/225\u001b[0m \u001b[32m━━━━━━━━━━━━━━━━━━━━\u001b[0m\u001b[37m\u001b[0m \u001b[1m11s\u001b[0m 43ms/step - accuracy: 0.9997 - loss: 0.0012 - val_accuracy: 0.9897 - val_loss: 0.1757\n",
            "Epoch 36/100\n",
            "\u001b[1m225/225\u001b[0m \u001b[32m━━━━━━━━━━━━━━━━━━━━\u001b[0m\u001b[37m\u001b[0m \u001b[1m8s\u001b[0m 35ms/step - accuracy: 0.9817 - loss: 0.0381 - val_accuracy: 0.9905 - val_loss: 0.0827\n",
            "Epoch 37/100\n",
            "\u001b[1m225/225\u001b[0m \u001b[32m━━━━━━━━━━━━━━━━━━━━\u001b[0m\u001b[37m\u001b[0m \u001b[1m11s\u001b[0m 36ms/step - accuracy: 1.0000 - loss: 5.9131e-04 - val_accuracy: 0.9887 - val_loss: 0.0874\n",
            "Epoch 38/100\n",
            "\u001b[1m225/225\u001b[0m \u001b[32m━━━━━━━━━━━━━━━━━━━━\u001b[0m\u001b[37m\u001b[0m \u001b[1m10s\u001b[0m 43ms/step - accuracy: 0.9987 - loss: 0.0036 - val_accuracy: 0.9908 - val_loss: 0.0862\n",
            "Epoch 39/100\n",
            "\u001b[1m225/225\u001b[0m \u001b[32m━━━━━━━━━━━━━━━━━━━━\u001b[0m\u001b[37m\u001b[0m \u001b[1m9s\u001b[0m 39ms/step - accuracy: 0.9998 - loss: 9.9895e-04 - val_accuracy: 0.9908 - val_loss: 0.0880\n",
            "Epoch 40/100\n",
            "\u001b[1m225/225\u001b[0m \u001b[32m━━━━━━━━━━━━━━━━━━━━\u001b[0m\u001b[37m\u001b[0m \u001b[1m9s\u001b[0m 40ms/step - accuracy: 0.9998 - loss: 6.1409e-04 - val_accuracy: 0.9911 - val_loss: 0.0896\n",
            "Epoch 41/100\n",
            "\u001b[1m225/225\u001b[0m \u001b[32m━━━━━━━━━━━━━━━━━━━━\u001b[0m\u001b[37m\u001b[0m \u001b[1m8s\u001b[0m 35ms/step - accuracy: 0.9999 - loss: 0.0011 - val_accuracy: 0.9911 - val_loss: 0.0876\n",
            "Epoch 42/100\n",
            "\u001b[1m225/225\u001b[0m \u001b[32m━━━━━━━━━━━━━━━━━━━━\u001b[0m\u001b[37m\u001b[0m \u001b[1m10s\u001b[0m 35ms/step - accuracy: 0.9994 - loss: 0.0021 - val_accuracy: 0.9911 - val_loss: 0.0904\n",
            "Epoch 43/100\n",
            "\u001b[1m225/225\u001b[0m \u001b[32m━━━━━━━━━━━━━━━━━━━━\u001b[0m\u001b[37m\u001b[0m \u001b[1m8s\u001b[0m 36ms/step - accuracy: 1.0000 - loss: 3.0033e-04 - val_accuracy: 0.9912 - val_loss: 0.0929\n",
            "Epoch 44/100\n",
            "\u001b[1m225/225\u001b[0m \u001b[32m━━━━━━━━━━━━━━━━━━━━\u001b[0m\u001b[37m\u001b[0m \u001b[1m13s\u001b[0m 58ms/step - accuracy: 0.9999 - loss: 6.4634e-04 - val_accuracy: 0.9911 - val_loss: 0.0931\n",
            "Epoch 45/100\n",
            "\u001b[1m225/225\u001b[0m \u001b[32m━━━━━━━━━━━━━━━━━━━━\u001b[0m\u001b[37m\u001b[0m \u001b[1m15s\u001b[0m 35ms/step - accuracy: 0.9889 - loss: 0.0315 - val_accuracy: 0.9915 - val_loss: 0.0949\n",
            "Epoch 46/100\n",
            "\u001b[1m225/225\u001b[0m \u001b[32m━━━━━━━━━━━━━━━━━━━━\u001b[0m\u001b[37m\u001b[0m \u001b[1m9s\u001b[0m 39ms/step - accuracy: 0.9996 - loss: 0.0017 - val_accuracy: 0.9915 - val_loss: 0.1020\n",
            "Epoch 47/100\n",
            "\u001b[1m225/225\u001b[0m \u001b[32m━━━━━━━━━━━━━━━━━━━━\u001b[0m\u001b[37m\u001b[0m \u001b[1m9s\u001b[0m 39ms/step - accuracy: 0.9987 - loss: 0.0039 - val_accuracy: 0.9905 - val_loss: 0.1035\n",
            "Epoch 48/100\n",
            "\u001b[1m225/225\u001b[0m \u001b[32m━━━━━━━━━━━━━━━━━━━━\u001b[0m\u001b[37m\u001b[0m \u001b[1m9s\u001b[0m 41ms/step - accuracy: 1.0000 - loss: 3.9241e-04 - val_accuracy: 0.9914 - val_loss: 0.1047\n",
            "Epoch 49/100\n",
            "\u001b[1m225/225\u001b[0m \u001b[32m━━━━━━━━━━━━━━━━━━━━\u001b[0m\u001b[37m\u001b[0m \u001b[1m9s\u001b[0m 36ms/step - accuracy: 0.9998 - loss: 8.3751e-04 - val_accuracy: 0.9914 - val_loss: 0.1063\n",
            "Epoch 50/100\n",
            "\u001b[1m225/225\u001b[0m \u001b[32m━━━━━━━━━━━━━━━━━━━━\u001b[0m\u001b[37m\u001b[0m \u001b[1m10s\u001b[0m 36ms/step - accuracy: 0.9998 - loss: 8.5910e-04 - val_accuracy: 0.9898 - val_loss: 0.1103\n",
            "Epoch 51/100\n",
            "\u001b[1m225/225\u001b[0m \u001b[32m━━━━━━━━━━━━━━━━━━━━\u001b[0m\u001b[37m\u001b[0m \u001b[1m10s\u001b[0m 34ms/step - accuracy: 1.0000 - loss: 6.4809e-04 - val_accuracy: 0.9422 - val_loss: 0.3182\n",
            "Epoch 52/100\n",
            "\u001b[1m225/225\u001b[0m \u001b[32m━━━━━━━━━━━━━━━━━━━━\u001b[0m\u001b[37m\u001b[0m \u001b[1m9s\u001b[0m 39ms/step - accuracy: 0.9819 - loss: 0.0585 - val_accuracy: 0.9916 - val_loss: 0.1076\n",
            "Epoch 53/100\n",
            "\u001b[1m225/225\u001b[0m \u001b[32m━━━━━━━━━━━━━━━━━━━━\u001b[0m\u001b[37m\u001b[0m \u001b[1m8s\u001b[0m 35ms/step - accuracy: 1.0000 - loss: 9.1276e-04 - val_accuracy: 0.9916 - val_loss: 0.1095\n",
            "Epoch 54/100\n",
            "\u001b[1m225/225\u001b[0m \u001b[32m━━━━━━━━━━━━━━━━━━━━\u001b[0m\u001b[37m\u001b[0m \u001b[1m9s\u001b[0m 40ms/step - accuracy: 0.9998 - loss: 8.4409e-04 - val_accuracy: 0.9912 - val_loss: 0.1122\n",
            "Epoch 55/100\n",
            "\u001b[1m225/225\u001b[0m \u001b[32m━━━━━━━━━━━━━━━━━━━━\u001b[0m\u001b[37m\u001b[0m \u001b[1m9s\u001b[0m 39ms/step - accuracy: 1.0000 - loss: 3.2707e-04 - val_accuracy: 0.9907 - val_loss: 0.1152\n",
            "Epoch 56/100\n",
            "\u001b[1m225/225\u001b[0m \u001b[32m━━━━━━━━━━━━━━━━━━━━\u001b[0m\u001b[37m\u001b[0m \u001b[1m9s\u001b[0m 39ms/step - accuracy: 0.9998 - loss: 7.2249e-04 - val_accuracy: 0.9912 - val_loss: 0.1152\n",
            "Epoch 57/100\n",
            "\u001b[1m225/225\u001b[0m \u001b[32m━━━━━━━━━━━━━━━━━━━━\u001b[0m\u001b[37m\u001b[0m \u001b[1m10s\u001b[0m 45ms/step - accuracy: 0.9999 - loss: 0.0017 - val_accuracy: 0.9914 - val_loss: 0.1160\n",
            "Epoch 58/100\n",
            "\u001b[1m225/225\u001b[0m \u001b[32m━━━━━━━━━━━━━━━━━━━━\u001b[0m\u001b[37m\u001b[0m \u001b[1m11s\u001b[0m 50ms/step - accuracy: 0.9999 - loss: 6.7097e-04 - val_accuracy: 0.9915 - val_loss: 0.1183\n",
            "Epoch 59/100\n",
            "\u001b[1m225/225\u001b[0m \u001b[32m━━━━━━━━━━━━━━━━━━━━\u001b[0m\u001b[37m\u001b[0m \u001b[1m17s\u001b[0m 35ms/step - accuracy: 1.0000 - loss: 1.6826e-04 - val_accuracy: 0.9905 - val_loss: 0.1191\n",
            "Epoch 60/100\n",
            "\u001b[1m225/225\u001b[0m \u001b[32m━━━━━━━━━━━━━━━━━━━━\u001b[0m\u001b[37m\u001b[0m \u001b[1m11s\u001b[0m 37ms/step - accuracy: 0.9995 - loss: 0.0015 - val_accuracy: 0.9915 - val_loss: 0.1209\n",
            "Epoch 61/100\n",
            "\u001b[1m225/225\u001b[0m \u001b[32m━━━━━━━━━━━━━━━━━━━━\u001b[0m\u001b[37m\u001b[0m \u001b[1m10s\u001b[0m 46ms/step - accuracy: 0.9969 - loss: 0.0108 - val_accuracy: 0.9908 - val_loss: 0.1311\n",
            "Epoch 62/100\n",
            "\u001b[1m225/225\u001b[0m \u001b[32m━━━━━━━━━━━━━━━━━━━━\u001b[0m\u001b[37m\u001b[0m \u001b[1m21s\u001b[0m 48ms/step - accuracy: 0.9998 - loss: 0.0014 - val_accuracy: 0.9898 - val_loss: 0.1350\n",
            "Epoch 63/100\n",
            "\u001b[1m225/225\u001b[0m \u001b[32m━━━━━━━━━━━━━━━━━━━━\u001b[0m\u001b[37m\u001b[0m \u001b[1m19s\u001b[0m 44ms/step - accuracy: 0.9999 - loss: 9.6285e-04 - val_accuracy: 0.9910 - val_loss: 0.1281\n",
            "Epoch 64/100\n",
            "\u001b[1m225/225\u001b[0m \u001b[32m━━━━━━━━━━━━━━━━━━━━\u001b[0m\u001b[37m\u001b[0m \u001b[1m9s\u001b[0m 40ms/step - accuracy: 0.9984 - loss: 0.0048 - val_accuracy: 0.9830 - val_loss: 0.1500\n",
            "Epoch 65/100\n",
            "\u001b[1m225/225\u001b[0m \u001b[32m━━━━━━━━━━━━━━━━━━━━\u001b[0m\u001b[37m\u001b[0m \u001b[1m9s\u001b[0m 36ms/step - accuracy: 0.9999 - loss: 7.1161e-04 - val_accuracy: 0.9911 - val_loss: 0.1337\n",
            "Epoch 66/100\n",
            "\u001b[1m225/225\u001b[0m \u001b[32m━━━━━━━━━━━━━━━━━━━━\u001b[0m\u001b[37m\u001b[0m \u001b[1m9s\u001b[0m 40ms/step - accuracy: 0.9997 - loss: 0.0013 - val_accuracy: 0.9912 - val_loss: 0.1353\n",
            "Epoch 67/100\n",
            "\u001b[1m225/225\u001b[0m \u001b[32m━━━━━━━━━━━━━━━━━━━━\u001b[0m\u001b[37m\u001b[0m \u001b[1m10s\u001b[0m 43ms/step - accuracy: 1.0000 - loss: 4.4064e-04 - val_accuracy: 0.9912 - val_loss: 0.1354\n",
            "Epoch 68/100\n",
            "\u001b[1m225/225\u001b[0m \u001b[32m━━━━━━━━━━━━━━━━━━━━\u001b[0m\u001b[37m\u001b[0m \u001b[1m9s\u001b[0m 37ms/step - accuracy: 0.9974 - loss: 0.0067 - val_accuracy: 0.9903 - val_loss: 0.1321\n",
            "Epoch 69/100\n",
            "\u001b[1m225/225\u001b[0m \u001b[32m━━━━━━━━━━━━━━━━━━━━\u001b[0m\u001b[37m\u001b[0m \u001b[1m9s\u001b[0m 41ms/step - accuracy: 0.9996 - loss: 0.0022 - val_accuracy: 0.9915 - val_loss: 0.1291\n",
            "Epoch 70/100\n",
            "\u001b[1m225/225\u001b[0m \u001b[32m━━━━━━━━━━━━━━━━━━━━\u001b[0m\u001b[37m\u001b[0m \u001b[1m11s\u001b[0m 49ms/step - accuracy: 0.9996 - loss: 0.0017 - val_accuracy: 0.9912 - val_loss: 0.1354\n",
            "Epoch 71/100\n",
            "\u001b[1m225/225\u001b[0m \u001b[32m━━━━━━━━━━━━━━━━━━━━\u001b[0m\u001b[37m\u001b[0m \u001b[1m9s\u001b[0m 41ms/step - accuracy: 1.0000 - loss: 4.6874e-04 - val_accuracy: 0.9915 - val_loss: 0.1376\n",
            "Epoch 72/100\n",
            "\u001b[1m225/225\u001b[0m \u001b[32m━━━━━━━━━━━━━━━━━━━━\u001b[0m\u001b[37m\u001b[0m \u001b[1m10s\u001b[0m 41ms/step - accuracy: 1.0000 - loss: 2.1332e-04 - val_accuracy: 0.9915 - val_loss: 0.1386\n",
            "Epoch 73/100\n",
            "\u001b[1m225/225\u001b[0m \u001b[32m━━━━━━━━━━━━━━━━━━━━\u001b[0m\u001b[37m\u001b[0m \u001b[1m9s\u001b[0m 38ms/step - accuracy: 0.9999 - loss: 0.0014 - val_accuracy: 0.9912 - val_loss: 0.1424\n",
            "Epoch 74/100\n",
            "\u001b[1m225/225\u001b[0m \u001b[32m━━━━━━━━━━━━━━━━━━━━\u001b[0m\u001b[37m\u001b[0m \u001b[1m10s\u001b[0m 44ms/step - accuracy: 0.9996 - loss: 0.0013 - val_accuracy: 0.9914 - val_loss: 0.1439\n",
            "Epoch 75/100\n",
            "\u001b[1m225/225\u001b[0m \u001b[32m━━━━━━━━━━━━━━━━━━━━\u001b[0m\u001b[37m\u001b[0m \u001b[1m9s\u001b[0m 41ms/step - accuracy: 0.9925 - loss: 0.0210 - val_accuracy: 0.9911 - val_loss: 0.1478\n",
            "Epoch 76/100\n",
            "\u001b[1m225/225\u001b[0m \u001b[32m━━━━━━━━━━━━━━━━━━━━\u001b[0m\u001b[37m\u001b[0m \u001b[1m8s\u001b[0m 35ms/step - accuracy: 0.9999 - loss: 5.4650e-04 - val_accuracy: 0.9910 - val_loss: 0.1515\n",
            "Epoch 77/100\n",
            "\u001b[1m225/225\u001b[0m \u001b[32m━━━━━━━━━━━━━━━━━━━━\u001b[0m\u001b[37m\u001b[0m \u001b[1m11s\u001b[0m 40ms/step - accuracy: 1.0000 - loss: 2.8057e-04 - val_accuracy: 0.9910 - val_loss: 0.1526\n",
            "Epoch 78/100\n",
            "\u001b[1m225/225\u001b[0m \u001b[32m━━━━━━━━━━━━━━━━━━━━\u001b[0m\u001b[37m\u001b[0m \u001b[1m10s\u001b[0m 45ms/step - accuracy: 1.0000 - loss: 5.4981e-05 - val_accuracy: 0.9869 - val_loss: 0.1597\n",
            "Epoch 79/100\n",
            "\u001b[1m225/225\u001b[0m \u001b[32m━━━━━━━━━━━━━━━━━━━━\u001b[0m\u001b[37m\u001b[0m \u001b[1m9s\u001b[0m 38ms/step - accuracy: 0.9998 - loss: 7.6417e-04 - val_accuracy: 0.9905 - val_loss: 0.1539\n",
            "Epoch 80/100\n",
            "\u001b[1m225/225\u001b[0m \u001b[32m━━━━━━━━━━━━━━━━━━━━\u001b[0m\u001b[37m\u001b[0m \u001b[1m9s\u001b[0m 39ms/step - accuracy: 0.9997 - loss: 0.0010 - val_accuracy: 0.9911 - val_loss: 0.1606\n",
            "Epoch 81/100\n",
            "\u001b[1m225/225\u001b[0m \u001b[32m━━━━━━━━━━━━━━━━━━━━\u001b[0m\u001b[37m\u001b[0m \u001b[1m9s\u001b[0m 38ms/step - accuracy: 1.0000 - loss: 3.5455e-04 - val_accuracy: 0.9907 - val_loss: 0.1612\n",
            "Epoch 82/100\n",
            "\u001b[1m225/225\u001b[0m \u001b[32m━━━━━━━━━━━━━━━━━━━━\u001b[0m\u001b[37m\u001b[0m \u001b[1m9s\u001b[0m 39ms/step - accuracy: 1.0000 - loss: 2.5767e-04 - val_accuracy: 0.9907 - val_loss: 0.1634\n",
            "Epoch 83/100\n",
            "\u001b[1m225/225\u001b[0m \u001b[32m━━━━━━━━━━━━━━━━━━━━\u001b[0m\u001b[37m\u001b[0m \u001b[1m9s\u001b[0m 34ms/step - accuracy: 0.9963 - loss: 0.0101 - val_accuracy: 0.9905 - val_loss: 0.1495\n",
            "Epoch 84/100\n",
            "\u001b[1m225/225\u001b[0m \u001b[32m━━━━━━━━━━━━━━━━━━━━\u001b[0m\u001b[37m\u001b[0m \u001b[1m8s\u001b[0m 35ms/step - accuracy: 0.9999 - loss: 0.0013 - val_accuracy: 0.9904 - val_loss: 0.1591\n",
            "Epoch 85/100\n",
            "\u001b[1m225/225\u001b[0m \u001b[32m━━━━━━━━━━━━━━━━━━━━\u001b[0m\u001b[37m\u001b[0m \u001b[1m11s\u001b[0m 40ms/step - accuracy: 0.9999 - loss: 9.2243e-04 - val_accuracy: 0.9908 - val_loss: 0.1553\n",
            "Epoch 86/100\n",
            "\u001b[1m225/225\u001b[0m \u001b[32m━━━━━━━━━━━━━━━━━━━━\u001b[0m\u001b[37m\u001b[0m \u001b[1m8s\u001b[0m 36ms/step - accuracy: 0.9996 - loss: 0.0011 - val_accuracy: 0.9880 - val_loss: 0.1637\n",
            "Epoch 87/100\n",
            "\u001b[1m225/225\u001b[0m \u001b[32m━━━━━━━━━━━━━━━━━━━━\u001b[0m\u001b[37m\u001b[0m \u001b[1m9s\u001b[0m 39ms/step - accuracy: 1.0000 - loss: 4.1406e-04 - val_accuracy: 0.9911 - val_loss: 0.1564\n",
            "Epoch 88/100\n",
            "\u001b[1m225/225\u001b[0m \u001b[32m━━━━━━━━━━━━━━━━━━━━\u001b[0m\u001b[37m\u001b[0m \u001b[1m10s\u001b[0m 45ms/step - accuracy: 0.9999 - loss: 3.7482e-04 - val_accuracy: 0.9482 - val_loss: 0.2686\n",
            "Epoch 89/100\n",
            "\u001b[1m225/225\u001b[0m \u001b[32m━━━━━━━━━━━━━━━━━━━━\u001b[0m\u001b[37m\u001b[0m \u001b[1m9s\u001b[0m 38ms/step - accuracy: 0.9914 - loss: 0.0222 - val_accuracy: 0.9914 - val_loss: 0.1613\n",
            "Epoch 90/100\n",
            "\u001b[1m225/225\u001b[0m \u001b[32m━━━━━━━━━━━━━━━━━━━━\u001b[0m\u001b[37m\u001b[0m \u001b[1m11s\u001b[0m 40ms/step - accuracy: 1.0000 - loss: 2.7991e-04 - val_accuracy: 0.9912 - val_loss: 0.1592\n",
            "Epoch 91/100\n",
            "\u001b[1m225/225\u001b[0m \u001b[32m━━━━━━━━━━━━━━━━━━━━\u001b[0m\u001b[37m\u001b[0m \u001b[1m9s\u001b[0m 42ms/step - accuracy: 1.0000 - loss: 2.7177e-04 - val_accuracy: 0.9908 - val_loss: 0.1631\n",
            "Epoch 92/100\n",
            "\u001b[1m225/225\u001b[0m \u001b[32m━━━━━━━━━━━━━━━━━━━━\u001b[0m\u001b[37m\u001b[0m \u001b[1m8s\u001b[0m 36ms/step - accuracy: 0.9999 - loss: 6.3358e-04 - val_accuracy: 0.9908 - val_loss: 0.1633\n",
            "Epoch 93/100\n",
            "\u001b[1m225/225\u001b[0m \u001b[32m━━━━━━━━━━━━━━━━━━━━\u001b[0m\u001b[37m\u001b[0m \u001b[1m9s\u001b[0m 41ms/step - accuracy: 0.9999 - loss: 8.9011e-04 - val_accuracy: 0.9914 - val_loss: 0.1655\n",
            "Epoch 94/100\n",
            "\u001b[1m225/225\u001b[0m \u001b[32m━━━━━━━━━━━━━━━━━━━━\u001b[0m\u001b[37m\u001b[0m \u001b[1m9s\u001b[0m 37ms/step - accuracy: 0.9998 - loss: 0.0015 - val_accuracy: 0.9911 - val_loss: 0.1679\n",
            "Epoch 95/100\n",
            "\u001b[1m225/225\u001b[0m \u001b[32m━━━━━━━━━━━━━━━━━━━━\u001b[0m\u001b[37m\u001b[0m \u001b[1m9s\u001b[0m 40ms/step - accuracy: 0.9996 - loss: 0.0016 - val_accuracy: 0.9916 - val_loss: 0.1693\n",
            "Epoch 96/100\n",
            "\u001b[1m225/225\u001b[0m \u001b[32m━━━━━━━━━━━━━━━━━━━━\u001b[0m\u001b[37m\u001b[0m \u001b[1m10s\u001b[0m 41ms/step - accuracy: 1.0000 - loss: 2.3813e-04 - val_accuracy: 0.9908 - val_loss: 0.1728\n",
            "Epoch 97/100\n",
            "\u001b[1m225/225\u001b[0m \u001b[32m━━━━━━━━━━━━━━━━━━━━\u001b[0m\u001b[37m\u001b[0m \u001b[1m9s\u001b[0m 39ms/step - accuracy: 0.9999 - loss: 3.9418e-04 - val_accuracy: 0.9915 - val_loss: 0.1712\n",
            "Epoch 98/100\n",
            "\u001b[1m225/225\u001b[0m \u001b[32m━━━━━━━━━━━━━━━━━━━━\u001b[0m\u001b[37m\u001b[0m \u001b[1m8s\u001b[0m 37ms/step - accuracy: 1.0000 - loss: 1.2542e-04 - val_accuracy: 0.9910 - val_loss: 0.1738\n",
            "Epoch 99/100\n",
            "\u001b[1m225/225\u001b[0m \u001b[32m━━━━━━━━━━━━━━━━━━━━\u001b[0m\u001b[37m\u001b[0m \u001b[1m9s\u001b[0m 40ms/step - accuracy: 0.9981 - loss: 0.0129 - val_accuracy: 0.9873 - val_loss: 0.1749\n",
            "Epoch 100/100\n",
            "\u001b[1m225/225\u001b[0m \u001b[32m━━━━━━━━━━━━━━━━━━━━\u001b[0m\u001b[37m\u001b[0m \u001b[1m9s\u001b[0m 38ms/step - accuracy: 0.9971 - loss: 0.0307 - val_accuracy: 0.9898 - val_loss: 0.1575\n"
          ]
        },
        {
          "data": {
            "text/plain": [
              "<keras.src.callbacks.history.History at 0x7e34730a2e10>"
            ]
          },
          "execution_count": 9,
          "metadata": {},
          "output_type": "execute_result"
        }
      ],
      "source": [
        "dnn_model = Sequential([\n",
        "    Embedding(vocab_size, 128, input_length=max_len),\n",
        "    GlobalAveragePooling1D(),\n",
        "    Dense(64, activation='relu'),\n",
        "    Dropout(0.5),\n",
        "    Dense(1, activation='sigmoid')\n",
        "])\n",
        "dnn_model.compile(loss='binary_crossentropy', optimizer='adam', metrics=['accuracy'])\n",
        "\n",
        "#  Training\n",
        "dnn_model.fit(X_train_pad, y_train, epochs=100, batch_size=128, validation_split=0.2)\n"
      ]
    },
    {
      "cell_type": "code",
      "execution_count": null,
      "metadata": {
        "id": "PIH2a6btTRv7"
      },
      "outputs": [],
      "source": [
        "def evaluate_and_print(y_true, y_pred, model_name):\n",
        "    acc = accuracy_score(y_true, y_pred)\n",
        "    prec = precision_score(y_true, y_pred)\n",
        "    rec = recall_score(y_true, y_pred)\n",
        "    f1 = f1_score(y_true, y_pred)\n",
        "    print(f\"\\n✅ {model_name} Performance:\")\n",
        "    print(f\"Accuracy:  {acc:.4f}\")\n",
        "    print(f\"Precision: {prec:.4f}\")\n",
        "    print(f\"Recall:    {rec:.4f}\")\n",
        "    print(f\"F1 Score:  {f1:.4f}\")\n",
        "    return acc, prec, rec, f1\n"
      ]
    },
    {
      "cell_type": "code",
      "execution_count": null,
      "metadata": {
        "colab": {
          "base_uri": "https://localhost:8080/"
        },
        "id": "jAOkIpAzTlAf",
        "outputId": "b87110c3-fac8-4235-adcb-6a301d3a24cd"
      },
      "outputs": [
        {
          "name": "stdout",
          "output_type": "stream",
          "text": [
            "\u001b[1m281/281\u001b[0m \u001b[32m━━━━━━━━━━━━━━━━━━━━\u001b[0m\u001b[37m\u001b[0m \u001b[1m2s\u001b[0m 6ms/step\n"
          ]
        }
      ],
      "source": [
        "dnn_preds = (dnn_model.predict(X_test_pad) > 0.5).astype(\"int32\")"
      ]
    },
    {
      "cell_type": "code",
      "execution_count": null,
      "metadata": {
        "colab": {
          "base_uri": "https://localhost:8080/"
        },
        "id": "Xh4F5jxzTnVp",
        "outputId": "7e0c3fbe-fc24-48c3-ab0c-91cb23e85102"
      },
      "outputs": [
        {
          "name": "stdout",
          "output_type": "stream",
          "text": [
            "\n",
            "✅ DNN Performance:\n",
            "Accuracy:  0.9935\n",
            "Precision: 0.9946\n",
            "Recall:    0.9918\n",
            "F1 Score:  0.9932\n"
          ]
        },
        {
          "data": {
            "text/plain": [
              "(0.9935412026726058,\n",
              " 0.9945793070940372,\n",
              " 0.9917743830787309,\n",
              " 0.9931748646740409)"
            ]
          },
          "execution_count": 16,
          "metadata": {},
          "output_type": "execute_result"
        }
      ],
      "source": [
        "evaluate_and_print(y_test, dnn_preds, \"DNN\")"
      ]
    },
    {
      "cell_type": "code",
      "execution_count": null,
      "metadata": {
        "colab": {
          "base_uri": "https://localhost:8080/",
          "height": 472
        },
        "id": "xRYOUKhWemhO",
        "outputId": "613d474e-cc14-4bb8-c7dd-e8f5f0e8c4c6"
      },
      "outputs": [
        {
          "data": {
            "image/png": "[encoded data removed]",
            "text/plain": [
              "<Figure size 640x480 with 2 Axes>"
            ]
          },
          "metadata": {},
          "output_type": "display_data"
        }
      ],
      "source": [
        "plot_conf_matrix(y_test, dnn_preds, \"DNN\")"
      ]
    },
    {
      "cell_type": "code",
      "execution_count": null,
      "metadata": {
        "colab": {
          "base_uri": "https://localhost:8080/"
        },
        "id": "5mgU0ULZTt4D",
        "outputId": "95782ff3-2ea8-4792-ee16-399b38cf6185"
      },
      "outputs": [
        {
          "name": "stderr",
          "output_type": "stream",
          "text": [
            "/usr/local/lib/python3.11/dist-packages/keras/src/layers/core/embedding.py:90: UserWarning: Argument `input_length` is deprecated. Just remove it.\n",
            "  warnings.warn(\n"
          ]
        },
        {
          "name": "stdout",
          "output_type": "stream",
          "text": [
            "Epoch 1/20\n",
            "\u001b[1m225/225\u001b[0m \u001b[32m━━━━━━━━━━━━━━━━━━━━\u001b[0m\u001b[37m\u001b[0m \u001b[1m202s\u001b[0m 877ms/step - accuracy: 0.7242 - loss: 0.5391 - val_accuracy: 0.9556 - val_loss: 0.1710\n",
            "Epoch 2/20\n",
            "\u001b[1m225/225\u001b[0m \u001b[32m━━━━━━━━━━━━━━━━━━━━\u001b[0m\u001b[37m\u001b[0m \u001b[1m200s\u001b[0m 868ms/step - accuracy: 0.6953 - loss: 0.6288 - val_accuracy: 0.9528 - val_loss: 0.1778\n",
            "Epoch 3/20\n",
            "\u001b[1m225/225\u001b[0m \u001b[32m━━━━━━━━━━━━━━━━━━━━\u001b[0m\u001b[37m\u001b[0m \u001b[1m200s\u001b[0m 864ms/step - accuracy: 0.9673 - loss: 0.1186 - val_accuracy: 0.9868 - val_loss: 0.0492\n",
            "Epoch 4/20\n",
            "\u001b[1m225/225\u001b[0m \u001b[32m━━━━━━━━━━━━━━━━━━━━\u001b[0m\u001b[37m\u001b[0m \u001b[1m202s\u001b[0m 866ms/step - accuracy: 0.9894 - loss: 0.0444 - val_accuracy: 0.9916 - val_loss: 0.0339\n",
            "Epoch 5/20\n",
            "\u001b[1m225/225\u001b[0m \u001b[32m━━━━━━━━━━━━━━━━━━━━\u001b[0m\u001b[37m\u001b[0m \u001b[1m202s\u001b[0m 864ms/step - accuracy: 0.9936 - loss: 0.0287 - val_accuracy: 0.9916 - val_loss: 0.0333\n",
            "Epoch 6/20\n",
            "\u001b[1m225/225\u001b[0m \u001b[32m━━━━━━━━━━━━━━━━━━━━\u001b[0m\u001b[37m\u001b[0m \u001b[1m203s\u001b[0m 870ms/step - accuracy: 0.9979 - loss: 0.0122 - val_accuracy: 0.9923 - val_loss: 0.0317\n",
            "Epoch 7/20\n",
            "\u001b[1m225/225\u001b[0m \u001b[32m━━━━━━━━━━━━━━━━━━━━\u001b[0m\u001b[37m\u001b[0m \u001b[1m200s\u001b[0m 861ms/step - accuracy: 0.9987 - loss: 0.0081 - val_accuracy: 0.9930 - val_loss: 0.0260\n",
            "Epoch 8/20\n",
            "\u001b[1m225/225\u001b[0m \u001b[32m━━━━━━━━━━━━━━━━━━━━\u001b[0m\u001b[37m\u001b[0m \u001b[1m201s\u001b[0m 858ms/step - accuracy: 0.9993 - loss: 0.0057 - val_accuracy: 0.9862 - val_loss: 0.0529\n",
            "Epoch 9/20\n",
            "\u001b[1m225/225\u001b[0m \u001b[32m━━━━━━━━━━━━━━━━━━━━\u001b[0m\u001b[37m\u001b[0m \u001b[1m202s\u001b[0m 857ms/step - accuracy: 0.9988 - loss: 0.0076 - val_accuracy: 0.9939 - val_loss: 0.0303\n",
            "Epoch 10/20\n",
            "\u001b[1m225/225\u001b[0m \u001b[32m━━━━━━━━━━━━━━━━━━━━\u001b[0m\u001b[37m\u001b[0m \u001b[1m193s\u001b[0m 860ms/step - accuracy: 0.9997 - loss: 0.0035 - val_accuracy: 0.9936 - val_loss: 0.0331\n",
            "Epoch 11/20\n",
            "\u001b[1m225/225\u001b[0m \u001b[32m━━━━━━━━━━━━━━━━━━━━\u001b[0m\u001b[37m\u001b[0m \u001b[1m202s\u001b[0m 860ms/step - accuracy: 0.9997 - loss: 0.0032 - val_accuracy: 0.9932 - val_loss: 0.0349\n",
            "Epoch 12/20\n",
            "\u001b[1m225/225\u001b[0m \u001b[32m━━━━━━━━━━━━━━━━━━━━\u001b[0m\u001b[37m\u001b[0m \u001b[1m203s\u001b[0m 864ms/step - accuracy: 0.9997 - loss: 0.0037 - val_accuracy: 0.9930 - val_loss: 0.0368\n",
            "Epoch 13/20\n",
            "\u001b[1m225/225\u001b[0m \u001b[32m━━━━━━━━━━━━━━━━━━━━\u001b[0m\u001b[37m\u001b[0m \u001b[1m205s\u001b[0m 879ms/step - accuracy: 0.9996 - loss: 0.0038 - val_accuracy: 0.9936 - val_loss: 0.0356\n",
            "Epoch 14/20\n",
            "\u001b[1m225/225\u001b[0m \u001b[32m━━━━━━━━━━━━━━━━━━━━\u001b[0m\u001b[37m\u001b[0m \u001b[1m201s\u001b[0m 873ms/step - accuracy: 0.9967 - loss: 0.0166 - val_accuracy: 0.9848 - val_loss: 0.0526\n",
            "Epoch 15/20\n",
            "\u001b[1m225/225\u001b[0m \u001b[32m━━━━━━━━━━━━━━━━━━━━\u001b[0m\u001b[37m\u001b[0m \u001b[1m204s\u001b[0m 881ms/step - accuracy: 0.9969 - loss: 0.0144 - val_accuracy: 0.9929 - val_loss: 0.0285\n",
            "Epoch 16/20\n",
            "\u001b[1m225/225\u001b[0m \u001b[32m━━━━━━━━━━━━━━━━━━━━\u001b[0m\u001b[37m\u001b[0m \u001b[1m199s\u001b[0m 870ms/step - accuracy: 0.9987 - loss: 0.0079 - val_accuracy: 0.9928 - val_loss: 0.0266\n",
            "Epoch 17/20\n",
            "\u001b[1m225/225\u001b[0m \u001b[32m━━━━━━━━━━━━━━━━━━━━\u001b[0m\u001b[37m\u001b[0m \u001b[1m199s\u001b[0m 883ms/step - accuracy: 0.9997 - loss: 0.0024 - val_accuracy: 0.9935 - val_loss: 0.0300\n",
            "Epoch 18/20\n",
            "\u001b[1m225/225\u001b[0m \u001b[32m━━━━━━━━━━━━━━━━━━━━\u001b[0m\u001b[37m\u001b[0m \u001b[1m202s\u001b[0m 881ms/step - accuracy: 0.9999 - loss: 0.0013 - val_accuracy: 0.9929 - val_loss: 0.0351\n",
            "Epoch 19/20\n",
            "\u001b[1m225/225\u001b[0m \u001b[32m━━━━━━━━━━━━━━━━━━━━\u001b[0m\u001b[37m\u001b[0m \u001b[1m199s\u001b[0m 868ms/step - accuracy: 0.9970 - loss: 0.0108 - val_accuracy: 0.9925 - val_loss: 0.0446\n",
            "Epoch 20/20\n",
            "\u001b[1m225/225\u001b[0m \u001b[32m━━━━━━━━━━━━━━━━━━━━\u001b[0m\u001b[37m\u001b[0m \u001b[1m200s\u001b[0m 860ms/step - accuracy: 0.9999 - loss: 0.0013 - val_accuracy: 0.9923 - val_loss: 0.0357\n",
            "\u001b[1m281/281\u001b[0m \u001b[32m━━━━━━━━━━━━━━━━━━━━\u001b[0m\u001b[37m\u001b[0m \u001b[1m17s\u001b[0m 60ms/step\n"
          ]
        }
      ],
      "source": [
        "cnn_lstm_model = Sequential([\n",
        "    Embedding(vocab_size, 128, input_length=max_len),\n",
        "    Conv1D(128, 5, activation='relu'),\n",
        "    MaxPooling1D(pool_size=2),\n",
        "    LSTM(64),\n",
        "    Dropout(0.5),\n",
        "    Dense(1, activation='sigmoid')\n",
        "])\n",
        "cnn_lstm_model.compile(loss='binary_crossentropy', optimizer='adam', metrics=['accuracy'])\n",
        "cnn_lstm_model.fit(X_train_pad, y_train, epochs=20, batch_size=128, validation_split=0.2)\n",
        "cnn_lstm_preds = (cnn_lstm_model.predict(X_test_pad) > 0.5).astype(\"int32\")\n"
      ]
    },
    {
      "cell_type": "code",
      "execution_count": null,
      "metadata": {
        "colab": {
          "base_uri": "https://localhost:8080/"
        },
        "id": "msWTkOr1jSsG",
        "outputId": "7f8b6eb5-b2c1-41c9-9b47-6a5d1e9fc4df"
      },
      "outputs": [
        {
          "name": "stdout",
          "output_type": "stream",
          "text": [
            "\n",
            "✅ CNN-LSTM Performance:\n",
            "Accuracy:  0.9929\n",
            "Precision: 0.9895\n",
            "Recall:    0.9955\n",
            "F1 Score:  0.9925\n"
          ]
        },
        {
          "data": {
            "text/plain": [
              "(0.9928730512249443,\n",
              " 0.9894884372810091,\n",
              " 0.9955346650998825,\n",
              " 0.9925023430178069)"
            ]
          },
          "execution_count": 18,
          "metadata": {},
          "output_type": "execute_result"
        }
      ],
      "source": [
        "evaluate_and_print(y_test, cnn_lstm_preds, \"CNN-LSTM\")"
      ]
    },
    {
      "cell_type": "code",
      "execution_count": null,
      "metadata": {
        "colab": {
          "base_uri": "https://localhost:8080/",
          "height": 472
        },
        "id": "psMTwdCDevKV",
        "outputId": "27341da0-28ad-4ba0-f0d3-c6093191a73e"
      },
      "outputs": [
        {
          "data": {
            "image/png": "[encoded data removed]",
            "text/plain": [
              "<Figure size 640x480 with 2 Axes>"
            ]
          },
          "metadata": {},
          "output_type": "display_data"
        }
      ],
      "source": [
        "plot_conf_matrix(y_test, cnn_lstm_preds, \"CNN-LSTM\")"
      ]
    },
    {
      "cell_type": "code",
      "execution_count": null,
      "metadata": {
        "id": "3qph6MgVjZSj"
      },
      "outputs": [],
      "source": [
        "from transformers import create_optimizer\n",
        "\n",
        "# Create optimizer using HuggingFace utility\n",
        "batch_size = 16\n",
        "epochs = 20\n",
        "steps_per_epoch = len(X_train) // batch_size\n",
        "num_train_steps = steps_per_epoch * epochs\n",
        "\n",
        "optimizer, _ = create_optimizer(\n",
        "    init_lr=2e-5,\n",
        "    num_train_steps=num_train_steps,\n",
        "    num_warmup_steps=0\n",
        ")\n",
        "\n",
        "bert_model.compile(\n",
        "    optimizer=optimizer,\n",
        "    loss=tf.keras.losses.SparseCategoricalCrossentropy(from_logits=True),\n",
        "    metrics=['accuracy']\n",
        ")\n"
      ]
    },
    {
      "cell_type": "code",
      "execution_count": null,
      "metadata": {
        "colab": {
          "base_uri": "https://localhost:8080/"
        },
        "id": "JxFzUO2IzASj",
        "outputId": "e66efe1c-c9c5-48f3-b0fc-719e115b3297"
      },
      "outputs": [
        {
          "name": "stdout",
          "output_type": "stream",
          "text": [
            "Epoch 1/5\n",
            "32/32 [==============================] - 479s 13s/step - loss: 0.0841 - accuracy: 0.9760 - val_loss: 0.0336 - val_accuracy: 0.9900\n",
            "Epoch 2/5\n",
            "32/32 [==============================] - 449s 14s/step - loss: 0.0132 - accuracy: 0.9980 - val_loss: 0.0147 - val_accuracy: 0.9900\n",
            "Epoch 3/5\n",
            "32/32 [==============================] - 442s 14s/step - loss: 0.0065 - accuracy: 1.0000 - val_loss: 0.0132 - val_accuracy: 0.9900\n",
            "Epoch 4/5\n",
            "32/32 [==============================] - 480s 15s/step - loss: 0.0043 - accuracy: 1.0000 - val_loss: 0.0122 - val_accuracy: 0.9900\n",
            "Epoch 5/5\n",
            "32/32 [==============================] - 440s 14s/step - loss: 0.0040 - accuracy: 1.0000 - val_loss: 0.0120 - val_accuracy: 0.9900\n"
          ]
        },
        {
          "data": {
            "text/plain": [
              "<tf_keras.src.callbacks.History at 0x7d5680459f10>"
            ]
          },
          "execution_count": 27,
          "metadata": {},
          "output_type": "execute_result"
        }
      ],
      "source": [
        "# Use fewer samples for fast test\n",
        "X_train_small = X_train[:500]\n",
        "y_train_small = y_train[:500]\n",
        "\n",
        "X_train_enc = encode_bert(X_train_small, tokenizer, max_len=64)\n",
        "X_val_enc = encode_bert(X_val[:100], tokenizer, max_len=64)\n",
        "\n",
        "# Change optimizer setup for fewer steps\n",
        "batch_size = 16\n",
        "epochs = 5\n",
        "steps_per_epoch = len(X_train_small) // batch_size\n",
        "num_train_steps = steps_per_epoch * epochs\n",
        "\n",
        "optimizer, _ = create_optimizer(2e-5, num_train_steps, 0)\n",
        "\n",
        "bert_model.compile(\n",
        "    optimizer=optimizer,\n",
        "    loss=tf.keras.losses.SparseCategoricalCrossentropy(from_logits=True),\n",
        "    metrics=['accuracy']\n",
        ")\n",
        "\n",
        "bert_model.fit(\n",
        "    x={\n",
        "        'input_ids': X_train_enc['input_ids'],\n",
        "        'attention_mask': X_train_enc['attention_mask']\n",
        "    },\n",
        "    y=np.array(y_train_small),\n",
        "    validation_data=(\n",
        "        {\n",
        "            'input_ids': X_val_enc['input_ids'],\n",
        "            'attention_mask': X_val_enc['attention_mask']\n",
        "        },\n",
        "        np.array(y_val[:100])\n",
        "    ),\n",
        "    batch_size=batch_size,\n",
        "    epochs=epochs\n",
        ")\n"
      ]
    },
    {
      "cell_type": "code",
      "execution_count": null,
      "metadata": {
        "id": "x1BQDrF-F3m1"
      },
      "outputs": [],
      "source": [
        "from sklearn.metrics import accuracy_score, precision_score, recall_score, f1_score, confusion_matrix, classification_report\n",
        "\n",
        "def evaluate_and_print(y_true, y_pred, model_name=\"Model\"):\n",
        "    print(f\"\\n🧪 Evaluation Report for {model_name}:\\n\")\n",
        "\n",
        "    acc = accuracy_score(y_true, y_pred)\n",
        "    prec = precision_score(y_true, y_pred)\n",
        "    rec = recall_score(y_true, y_pred)\n",
        "    f1 = f1_score(y_true, y_pred)\n",
        "    cm = confusion_matrix(y_true, y_pred)\n",
        "\n",
        "    print(f\"✅ Accuracy:  {acc:.4f}\")\n",
        "    print(f\"🎯 Precision: {prec:.4f}\")\n",
        "    print(f\"🔁 Recall:    {rec:.4f}\")\n",
        "    print(f\"📊 F1 Score:  {f1:.4f}\")\n",
        "    print(\"\\n🧮 Confusion Matrix:\\n\", cm)\n",
        "\n",
        "    print(\"\\n📋 Classification Report:\\n\")\n",
        "    print(classification_report(y_true, y_pred, digits=4))\n"
      ]
    },
    {
      "cell_type": "code",
      "execution_count": null,
      "metadata": {
        "colab": {
          "base_uri": "https://localhost:8080/"
        },
        "id": "o8_6wbKjFk6O",
        "outputId": "8de21f49-50f6-4579-ecff-ca1ea5cd0eaa"
      },
      "outputs": [
        {
          "name": "stdout",
          "output_type": "stream",
          "text": [
            "281/281 [==============================] - 4392s 16s/step\n",
            "\n",
            "🧪 Evaluation Report for BERT:\n",
            "\n",
            "✅ Accuracy:  0.9963\n",
            "🎯 Precision: 0.9946\n",
            "🔁 Recall:    0.9976\n",
            "📊 F1 Score:  0.9961\n",
            "\n",
            "🧮 Confusion Matrix:\n",
            " [[4702   23]\n",
            " [  10 4245]]\n",
            "\n",
            "📋 Classification Report:\n",
            "\n",
            "              precision    recall  f1-score   support\n",
            "\n",
            "           0     0.9979    0.9951    0.9965      4725\n",
            "           1     0.9946    0.9976    0.9961      4255\n",
            "\n",
            "    accuracy                         0.9963      8980\n",
            "   macro avg     0.9962    0.9964    0.9963      8980\n",
            "weighted avg     0.9963    0.9963    0.9963      8980\n",
            "\n"
          ]
        }
      ],
      "source": [
        "# Step 1: Predict\n",
        "bert_preds_logits = bert_model.predict(\n",
        "    [X_test_bert['input_ids'], X_test_bert['attention_mask']]\n",
        ").logits\n",
        "\n",
        "bert_preds = np.argmax(bert_preds_logits, axis=1)\n",
        "\n",
        "# Step 2: Evaluate\n",
        "evaluate_and_print(y_test, bert_preds, \"BERT\")\n"
      ]
    },
    {
      "cell_type": "code",
      "execution_count": null,
      "metadata": {
        "colab": {
          "base_uri": "https://localhost:8080/",
          "height": 472
        },
        "id": "fjBW3KJke3AX",
        "outputId": "60f3c808-1559-4230-f1d3-07685ec53e09"
      },
      "outputs": [
        {
          "data": {
            "image/png": "[encoded data removed]",
            "text/plain": [
              "<Figure size 640x480 with 2 Axes>"
            ]
          },
          "metadata": {},
          "output_type": "display_data"
        }
      ],
      "source": [
        "plot_conf_matrix(y_test, bert_preds, \"BERT\")"
      ]
    },
    {
      "cell_type": "code",
      "execution_count": null,
      "metadata": {
        "id": "nvT1K1PvaBwD"
      },
      "outputs": [],
      "source": [
        "results = []  # Collect results for plotting\n",
        "\n",
        "def evaluate_and_store(y_true, y_pred, model_name):\n",
        "    acc = accuracy_score(y_true, y_pred)\n",
        "    prec = precision_score(y_true, y_pred)\n",
        "    rec = recall_score(y_true, y_pred)\n",
        "    f1 = f1_score(y_true, y_pred)\n",
        "\n",
        "    print(f\"\\n✅ {model_name} Performance:\")\n",
        "    print(f\"Accuracy:  {acc:.4f}\")\n",
        "    print(f\"Precision: {prec:.4f}\")\n",
        "    print(f\"Recall:    {rec:.4f}\")\n",
        "    print(f\"F1 Score:  {f1:.4f}\")\n",
        "\n",
        "    results.append({\n",
        "        \"Model\": model_name,\n",
        "        \"Accuracy\": acc,\n",
        "        \"Precision\": prec,\n",
        "        \"Recall\": rec,\n",
        "        \"F1 Score\": f1\n",
        "    })\n"
      ]
    },
    {
      "cell_type": "code",
      "execution_count": null,
      "metadata": {
        "colab": {
          "base_uri": "https://localhost:8080/"
        },
        "id": "MJLOCJdncFHf",
        "outputId": "7592ed47-368c-418e-a8ef-88970ff18119"
      },
      "outputs": [
        {
          "name": "stdout",
          "output_type": "stream",
          "text": [
            "\n",
            "✅ LSTM Performance:\n",
            "Accuracy:  0.9891\n",
            "Precision: 0.9867\n",
            "Recall:    0.9904\n",
            "F1 Score:  0.9885\n",
            "\n",
            "✅ DNN Performance:\n",
            "Accuracy:  0.9935\n",
            "Precision: 0.9946\n",
            "Recall:    0.9918\n",
            "F1 Score:  0.9932\n",
            "\n",
            "✅ CNN-LSTM Performance:\n",
            "Accuracy:  0.9929\n",
            "Precision: 0.9895\n",
            "Recall:    0.9955\n",
            "F1 Score:  0.9925\n",
            "\n",
            "✅ BERT Performance:\n",
            "Accuracy:  0.9963\n",
            "Precision: 0.9946\n",
            "Recall:    0.9976\n",
            "F1 Score:  0.9961\n"
          ]
        }
      ],
      "source": [
        "evaluate_and_store(y_test, lstm_preds, \"LSTM\")\n",
        "evaluate_and_store(y_test, dnn_preds, \"DNN\")\n",
        "evaluate_and_store(y_test, cnn_lstm_preds, \"CNN-LSTM\")\n",
        "evaluate_and_store(y_test, bert_preds, \"BERT\")\n"
      ]
    },
    {
      "cell_type": "code",
      "execution_count": null,
      "metadata": {
        "id": "Xn1jTSzmcm8A"
      },
      "outputs": [],
      "source": [
        "results_df = pd.DataFrame(results).set_index(\"Model\")"
      ]
    },
    {
      "cell_type": "code",
      "execution_count": null,
      "metadata": {
        "colab": {
          "base_uri": "https://localhost:8080/"
        },
        "id": "jVPmB0NXcp2H",
        "outputId": "ab06e698-47f9-4d1c-cee1-5598e7009ceb"
      },
      "outputs": [
        {
          "name": "stdout",
          "output_type": "stream",
          "text": [
            "🏆 Best Model: BERT with average score of 0.9962\n"
          ]
        }
      ],
      "source": [
        "# Add average score\n",
        "results_df[\"Average\"] = results_df.mean(axis=1)\n",
        "\n",
        "# Find the best model\n",
        "best_model = results_df[\"Average\"].idxmax()\n",
        "best_score = results_df[\"Average\"].max()\n",
        "\n",
        "print(f\"🏆 Best Model: {best_model} with average score of {best_score:.4f}\")\n"
      ]
    },
    {
      "cell_type": "code",
      "execution_count": null,
      "metadata": {
        "colab": {
          "base_uri": "https://localhost:8080/",
          "height": 746
        },
        "id": "3ipPXxEWcvPt",
        "outputId": "56721f1d-8d42-46af-8299-2cc4655a8de5"
      },
      "outputs": [
        {
          "name": "stderr",
          "output_type": "stream",
          "text": [
            "/tmp/ipython-input-39-1160348878.py:21: UserWarning: Glyph 129514 (\\N{TEST TUBE}) missing from font(s) DejaVu Sans.\n",
            "  plt.tight_layout()\n",
            "/tmp/ipython-input-39-1160348878.py:21: UserWarning: Glyph 127942 (\\N{TROPHY}) missing from font(s) DejaVu Sans.\n",
            "  plt.tight_layout()\n",
            "/usr/local/lib/python3.11/dist-packages/IPython/core/pylabtools.py:151: UserWarning: Glyph 129514 (\\N{TEST TUBE}) missing from font(s) DejaVu Sans.\n",
            "  fig.canvas.print_figure(bytes_io, **kw)\n",
            "/usr/local/lib/python3.11/dist-packages/IPython/core/pylabtools.py:151: UserWarning: Glyph 127942 (\\N{TROPHY}) missing from font(s) DejaVu Sans.\n",
            "  fig.canvas.print_figure(bytes_io, **kw)\n"
          ]
        },
        {
          "data": {
            "image/png": "[encoded data removed]",
            "text/plain": [
              "<Figure size 1200x600 with 1 Axes>"
            ]
          },
          "metadata": {},
          "output_type": "display_data"
        }
      ],
      "source": [
        "# Plot all metrics\n",
        "ax = results_df.drop(columns=\"Average\").plot(kind='bar', figsize=(12, 6), colormap='Set2')\n",
        "plt.title(\"🧪 Fake News Detection - Model Comparison\")\n",
        "plt.ylabel(\"Score\")\n",
        "plt.ylim(0.5, 1.05)\n",
        "plt.xticks(rotation=0)\n",
        "plt.grid(axis='y')\n",
        "plt.legend(title=\"Metrics\")\n",
        "\n",
        "# Highlight best model\n",
        "highlight_color = 'gold'\n",
        "highlight_bar = results_df.index.get_loc(best_model)\n",
        "for rect in ax.patches[highlight_bar::len(results_df)]:\n",
        "    rect.set_edgecolor('black')\n",
        "    rect.set_linewidth(2)\n",
        "    rect.set_facecolor(highlight_color)\n",
        "\n",
        "# Annotate best model\n",
        "plt.text(highlight_bar - 0.15, 1.02, f\"🏆 Best: {best_model}\", fontsize=12, fontweight='bold')\n",
        "\n",
        "plt.tight_layout()\n",
        "plt.show()\n"
      ]
    },
    {
      "cell_type": "code",
      "execution_count": null,
      "metadata": {
        "colab": {
          "base_uri": "https://localhost:8080/"
        },
        "id": "BphtFtd_gVuJ",
        "outputId": "160fe42a-590c-4bad-9c1b-545c138577b1"
      },
      "outputs": [
        {
          "name": "stdout",
          "output_type": "stream",
          "text": [
            "1/1 [==============================] - 3s 3s/step\n",
            "📰 \"The president resigns over fake scandal\" → Prediction: Real\n",
            "📰 \"Aliens land in California, scientists confirm\" → Prediction: Fake\n"
          ]
        }
      ],
      "source": [
        "sample = [\n",
        "    \"The president resigns over fake scandal\",\n",
        "    \"Aliens land in California, scientists confirm\"\n",
        "]\n",
        "\n",
        "# Define labels for output\n",
        "labels = [\"Fake\", \"Real\"]\n",
        "\n",
        "# Preprocess for BERT\n",
        "sample_inputs = encode_bert(sample, bert_tokenizer, 128)\n",
        "\n",
        "# Predict using BERT\n",
        "bert_pred_logits = bert_model.predict([sample_inputs['input_ids'], sample_inputs['attention_mask']]).logits\n",
        "bert_pred = np.argmax(bert_pred_logits, axis=1)\n",
        "\n",
        "# Display results\n",
        "for i, label in enumerate(bert_pred):\n",
        "    print(f\"📰 \\\"{sample[i]}\\\" → Prediction: {labels[label]}\")\n"
      ]
    }
  ],
  "metadata": {
    "colab": {
      "provenance": [],
      "authorship_tag": "ABX9TyM9cKYlsi4o+v/jp6HK4YWH",
      "include_colab_link": true
    },
    "kernelspec": {
      "display_name": "Python 3",
      "name": "python3"
    },
    "language_info": {
      "name": "python"
    }
  },
  "nbformat": 4,
  "nbformat_minor": 0
}